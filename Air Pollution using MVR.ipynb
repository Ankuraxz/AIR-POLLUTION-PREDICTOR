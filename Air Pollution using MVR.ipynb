{
 "cells": [
  {
   "cell_type": "code",
   "execution_count": 3,
   "metadata": {},
   "outputs": [],
   "source": [
    "import numpy as np\n",
    "import pandas as pd\n",
    "import matplotlib.pyplot as plt"
   ]
  },
  {
   "cell_type": "code",
   "execution_count": 4,
   "metadata": {},
   "outputs": [],
   "source": [
    "dfx = pd.read_csv(\"C:/Users/ramesh/Desktop/My CB ML/Air Pollution Project/Train.csv\")\n",
    "dfxt = pd.read_csv(\"C:/Users/ramesh/Desktop/My CB ML/Air Pollution Project/Test.csv\")"
   ]
  },
  {
   "cell_type": "code",
   "execution_count": 5,
   "metadata": {},
   "outputs": [
    {
     "name": "stdout",
     "output_type": "stream",
     "text": [
      "(1600, 6)\n",
      "(1600, 5)\n",
      "(1600,)\n",
      "(400, 5)\n"
     ]
    }
   ],
   "source": [
    "XTrain = dfx.values\n",
    "\n",
    "x = XTrain[:,0:5]\n",
    "y = XTrain[:,5]\n",
    "\n",
    "xt = dfxt.values\n",
    "\n",
    "print(XTrain.shape)\n",
    "print(x.shape)\n",
    "print(y.shape)\n",
    "print(xt.shape)"
   ]
  },
  {
   "cell_type": "code",
   "execution_count": 6,
   "metadata": {},
   "outputs": [
    {
     "name": "stdout",
     "output_type": "stream",
     "text": [
      "   feature_1  feature_2  feature_3  feature_4  feature_5     target\n",
      "0   0.293416  -0.945599  -0.421105   0.406816   0.525662 -82.154667\n",
      "1  -0.836084  -0.189228  -0.776403  -1.053831   0.597997 -48.897960\n",
      "2   0.236425   0.132836  -0.147723   0.699854  -0.187364  77.270371\n",
      "3   0.175312   0.143194  -0.581111  -0.122107  -1.292168  -2.988581\n",
      "4  -1.693011   0.542712  -2.798729  -0.686723   1.244077 -37.596722\n",
      "\n",
      "[[ 0.31139642 -0.92093003 -0.3992678   0.42418404  0.5423883 ]\n",
      " [-0.81200658 -0.16864243 -0.75264729 -1.02857829  0.61433283]\n",
      " [ 0.25471295  0.15168305 -0.12736142  0.71564009 -0.16678861]\n",
      " ...\n",
      " [ 1.05810433 -0.87478823  1.74062205 -1.84139222  0.45969493]\n",
      " [-1.24275748  0.01453923  1.8672047  -1.05496863  0.75192314]\n",
      " [-1.85426585 -0.8252779  -1.42486653  0.50553954  1.47126077]]\n",
      "\n",
      "[ -82.15466656  -48.89796018   77.2703707  ... -107.51050797  -47.34155781\n",
      " -115.93900296]\n"
     ]
    }
   ],
   "source": [
    "X = (x-x.mean())/x.std()\n",
    "Y = y\n",
    "print(dfx.head())\n",
    "print()\n",
    "print(X)\n",
    "print()\n",
    "print(Y)"
   ]
  },
  {
   "cell_type": "markdown",
   "metadata": {},
   "source": [
    "# Algorithm"
   ]
  },
  {
   "cell_type": "code",
   "execution_count": 7,
   "metadata": {},
   "outputs": [],
   "source": [
    "def hypothesis(x, theta): \n",
    "    return theta[0] + theta[1]*x                    # eqn of lime y= c + mx\n",
    "\n",
    "def error(X, Y, theta):\n",
    "    \n",
    "    m = X.shape[0]\n",
    "    error = 0\n",
    "    \n",
    "    for i in range(m):\n",
    "        hx = hypothesis(X[i], theta)\n",
    "        error += (hx - Y[i])**2\n",
    "    return error\n",
    "\n",
    "# ALgorithm\n",
    "\n",
    "def gradient(X , Y, theta):                             # to get grad[0] and grad[1]\n",
    "    \n",
    "    \n",
    "    m = X.shape[0]\n",
    "    grad = np.zeros((m,))\n",
    "    for i in range(m):\n",
    "        hx = hypothesis(X[i], theta)\n",
    "        grad[0] += (hx - Y[i])\n",
    "        grad[i] += (hx- Y[i])*X[i]\n",
    "    \n",
    "    return grad\n",
    "    \n",
    "    \n",
    "\n",
    "def gradientDescent(X ,Y, learning_rate = 0.00001):\n",
    "    \n",
    "    theta = np.zeros((2, ))\n",
    "    \n",
    "    itr = 0\n",
    "    max_itr = 300\n",
    "    error_list = []\n",
    "    while(itr<= max_itr):\n",
    "        e = error(X,Y,theta)\n",
    "        error_list.append(e)\n",
    "        grad = gradient(X,Y,theta)\n",
    "        theta[0] = theta[0] - learning_rate*grad[0]\n",
    "        theta[1] = theta[1] - learning_rate*grad[1]\n",
    "        itr+=1\n",
    "        \n",
    "    return theta, error_list\n",
    "        "
   ]
  },
  {
   "cell_type": "code",
   "execution_count": 8,
   "metadata": {},
   "outputs": [
    {
     "data": {
      "text/plain": [
       "'def hypothesis(x, theta):\\n    m = X.shape[0]\\n    zzz = theta[0]\\n    for j in range(1,m):\\n        zzz +=  theta[j]*x                    # eqn of lime y= c + mx\\n\\ndef error(X, Y, theta):\\n    \\n    m = X.shape[0]\\n    error = 0\\n    \\n    for i in range(m):\\n        hx = hypothesis(X[i], theta)\\n        error += (hx - Y[i])**2\\n    return error\\n\\n# ALgorithm\\n\\ndef gradient(X , Y, theta):                              # to get grad[0] and grad[1]\\n    \\n    grad = np.zeros((2,))\\n    m = X.shape[0]\\n    for i in range(m):\\n        hx = hypothesis(X[i], theta)\\n        \\n        grad[0] += (hx - Y[i])\\n        grad[i+1] += (hx- Y[i])*X[i]\\n    \\n    return grad\\n    \\n    \\n\\ndef gradientDescent(X ,Y, learning_rate = 0.00001):\\n    \\n    theta = np.zeros((2, ))\\n    \\n    m =X.shape[0] \\n    \\n    itr = 0\\n    max_itr = 300\\n    error_list = []\\n    while(itr<= max_itr):\\n        e = error(X,Y,theta)\\n        error_list.append(e)\\n        grad = gradient(X,Y,theta)\\n        \\n        z += (hx - Y[i])*X[i]\\n        for j in range(m):\\n            \\n            theta[j] = theta[j] - learning_rate*z\\n        itr+=1\\n        \\n    return theta, error_list\\n    '"
      ]
     },
     "execution_count": 8,
     "metadata": {},
     "output_type": "execute_result"
    }
   ],
   "source": [
    "'''def hypothesis(x, theta):\n",
    "    m = X.shape[0]\n",
    "    zzz = theta[0]\n",
    "    for j in range(1,m):\n",
    "        zzz +=  theta[j]*x                    # eqn of lime y= c + mx\n",
    "\n",
    "def error(X, Y, theta):\n",
    "    \n",
    "    m = X.shape[0]\n",
    "    error = 0\n",
    "    \n",
    "    for i in range(m):\n",
    "        hx = hypothesis(X[i], theta)\n",
    "        error += (hx - Y[i])**2\n",
    "    return error\n",
    "\n",
    "# ALgorithm\n",
    "\n",
    "def gradient(X , Y, theta):                              # to get grad[0] and grad[1]\n",
    "    \n",
    "    grad = np.zeros((2,))\n",
    "    m = X.shape[0]\n",
    "    for i in range(m):\n",
    "        hx = hypothesis(X[i], theta)\n",
    "        \n",
    "        grad[0] += (hx - Y[i])\n",
    "        grad[i+1] += (hx- Y[i])*X[i]\n",
    "    \n",
    "    return grad\n",
    "    \n",
    "    \n",
    "\n",
    "def gradientDescent(X ,Y, learning_rate = 0.00001):\n",
    "    \n",
    "    theta = np.zeros((2, ))\n",
    "    \n",
    "    m =X.shape[0] \n",
    "    \n",
    "    itr = 0\n",
    "    max_itr = 300\n",
    "    error_list = []\n",
    "    while(itr<= max_itr):\n",
    "        e = error(X,Y,theta)\n",
    "        error_list.append(e)\n",
    "        grad = gradient(X,Y,theta)\n",
    "        \n",
    "        z += (hx - Y[i])*X[i]\n",
    "        for j in range(m):\n",
    "            \n",
    "            theta[j] = theta[j] - learning_rate*z\n",
    "        itr+=1\n",
    "        \n",
    "    return theta, error_list\n",
    "    '''"
   ]
  },
  {
   "cell_type": "code",
   "execution_count": 9,
   "metadata": {},
   "outputs": [
    {
     "ename": "ValueError",
     "evalue": "setting an array element with a sequence.",
     "output_type": "error",
     "traceback": [
      "\u001b[1;31m---------------------------------------------------------------------------\u001b[0m",
      "\u001b[1;31mValueError\u001b[0m                                Traceback (most recent call last)",
      "\u001b[1;32m<ipython-input-9-0c97dd511fc0>\u001b[0m in \u001b[0;36m<module>\u001b[1;34m()\u001b[0m\n\u001b[1;32m----> 1\u001b[1;33m \u001b[0mfinal_theta\u001b[0m\u001b[1;33m,\u001b[0m \u001b[0merror_list\u001b[0m \u001b[1;33m=\u001b[0m \u001b[0mgradientDescent\u001b[0m\u001b[1;33m(\u001b[0m\u001b[0mX\u001b[0m\u001b[1;33m,\u001b[0m \u001b[0mY\u001b[0m\u001b[1;33m)\u001b[0m\u001b[1;33m\u001b[0m\u001b[0m\n\u001b[0m",
      "\u001b[1;32m<ipython-input-7-d3b0fbe1ea5a>\u001b[0m in \u001b[0;36mgradientDescent\u001b[1;34m(X, Y, learning_rate)\u001b[0m\n\u001b[0;32m     38\u001b[0m         \u001b[0me\u001b[0m \u001b[1;33m=\u001b[0m \u001b[0merror\u001b[0m\u001b[1;33m(\u001b[0m\u001b[0mX\u001b[0m\u001b[1;33m,\u001b[0m\u001b[0mY\u001b[0m\u001b[1;33m,\u001b[0m\u001b[0mtheta\u001b[0m\u001b[1;33m)\u001b[0m\u001b[1;33m\u001b[0m\u001b[0m\n\u001b[0;32m     39\u001b[0m         \u001b[0merror_list\u001b[0m\u001b[1;33m.\u001b[0m\u001b[0mappend\u001b[0m\u001b[1;33m(\u001b[0m\u001b[0me\u001b[0m\u001b[1;33m)\u001b[0m\u001b[1;33m\u001b[0m\u001b[0m\n\u001b[1;32m---> 40\u001b[1;33m         \u001b[0mgrad\u001b[0m \u001b[1;33m=\u001b[0m \u001b[0mgradient\u001b[0m\u001b[1;33m(\u001b[0m\u001b[0mX\u001b[0m\u001b[1;33m,\u001b[0m\u001b[0mY\u001b[0m\u001b[1;33m,\u001b[0m\u001b[0mtheta\u001b[0m\u001b[1;33m)\u001b[0m\u001b[1;33m\u001b[0m\u001b[0m\n\u001b[0m\u001b[0;32m     41\u001b[0m         \u001b[0mtheta\u001b[0m\u001b[1;33m[\u001b[0m\u001b[1;36m0\u001b[0m\u001b[1;33m]\u001b[0m \u001b[1;33m=\u001b[0m \u001b[0mtheta\u001b[0m\u001b[1;33m[\u001b[0m\u001b[1;36m0\u001b[0m\u001b[1;33m]\u001b[0m \u001b[1;33m-\u001b[0m \u001b[0mlearning_rate\u001b[0m\u001b[1;33m*\u001b[0m\u001b[0mgrad\u001b[0m\u001b[1;33m[\u001b[0m\u001b[1;36m0\u001b[0m\u001b[1;33m]\u001b[0m\u001b[1;33m\u001b[0m\u001b[0m\n\u001b[0;32m     42\u001b[0m         \u001b[0mtheta\u001b[0m\u001b[1;33m[\u001b[0m\u001b[1;36m1\u001b[0m\u001b[1;33m]\u001b[0m \u001b[1;33m=\u001b[0m \u001b[0mtheta\u001b[0m\u001b[1;33m[\u001b[0m\u001b[1;36m1\u001b[0m\u001b[1;33m]\u001b[0m \u001b[1;33m-\u001b[0m \u001b[0mlearning_rate\u001b[0m\u001b[1;33m*\u001b[0m\u001b[0mgrad\u001b[0m\u001b[1;33m[\u001b[0m\u001b[1;36m1\u001b[0m\u001b[1;33m]\u001b[0m\u001b[1;33m\u001b[0m\u001b[0m\n",
      "\u001b[1;32m<ipython-input-7-d3b0fbe1ea5a>\u001b[0m in \u001b[0;36mgradient\u001b[1;34m(X, Y, theta)\u001b[0m\n\u001b[0;32m     21\u001b[0m     \u001b[1;32mfor\u001b[0m \u001b[0mi\u001b[0m \u001b[1;32min\u001b[0m \u001b[0mrange\u001b[0m\u001b[1;33m(\u001b[0m\u001b[0mm\u001b[0m\u001b[1;33m)\u001b[0m\u001b[1;33m:\u001b[0m\u001b[1;33m\u001b[0m\u001b[0m\n\u001b[0;32m     22\u001b[0m         \u001b[0mhx\u001b[0m \u001b[1;33m=\u001b[0m \u001b[0mhypothesis\u001b[0m\u001b[1;33m(\u001b[0m\u001b[0mX\u001b[0m\u001b[1;33m[\u001b[0m\u001b[0mi\u001b[0m\u001b[1;33m]\u001b[0m\u001b[1;33m,\u001b[0m \u001b[0mtheta\u001b[0m\u001b[1;33m)\u001b[0m\u001b[1;33m\u001b[0m\u001b[0m\n\u001b[1;32m---> 23\u001b[1;33m         \u001b[0mgrad\u001b[0m\u001b[1;33m[\u001b[0m\u001b[1;36m0\u001b[0m\u001b[1;33m]\u001b[0m \u001b[1;33m+=\u001b[0m \u001b[1;33m(\u001b[0m\u001b[0mhx\u001b[0m \u001b[1;33m-\u001b[0m \u001b[0mY\u001b[0m\u001b[1;33m[\u001b[0m\u001b[0mi\u001b[0m\u001b[1;33m]\u001b[0m\u001b[1;33m)\u001b[0m\u001b[1;33m\u001b[0m\u001b[0m\n\u001b[0m\u001b[0;32m     24\u001b[0m         \u001b[0mgrad\u001b[0m\u001b[1;33m[\u001b[0m\u001b[0mi\u001b[0m\u001b[1;33m]\u001b[0m \u001b[1;33m+=\u001b[0m \u001b[1;33m(\u001b[0m\u001b[0mhx\u001b[0m\u001b[1;33m-\u001b[0m \u001b[0mY\u001b[0m\u001b[1;33m[\u001b[0m\u001b[0mi\u001b[0m\u001b[1;33m]\u001b[0m\u001b[1;33m)\u001b[0m\u001b[1;33m*\u001b[0m\u001b[0mX\u001b[0m\u001b[1;33m[\u001b[0m\u001b[0mi\u001b[0m\u001b[1;33m]\u001b[0m\u001b[1;33m\u001b[0m\u001b[0m\n\u001b[0;32m     25\u001b[0m \u001b[1;33m\u001b[0m\u001b[0m\n",
      "\u001b[1;31mValueError\u001b[0m: setting an array element with a sequence."
     ]
    }
   ],
   "source": [
    "final_theta, error_list = gradientDescent(X, Y)"
   ]
  },
  {
   "cell_type": "code",
   "execution_count": null,
   "metadata": {},
   "outputs": [],
   "source": []
  }
 ],
 "metadata": {
  "kernelspec": {
   "display_name": "Python 3",
   "language": "python",
   "name": "python3"
  },
  "language_info": {
   "codemirror_mode": {
    "name": "ipython",
    "version": 3
   },
   "file_extension": ".py",
   "mimetype": "text/x-python",
   "name": "python",
   "nbconvert_exporter": "python",
   "pygments_lexer": "ipython3",
   "version": "3.7.4"
  }
 },
 "nbformat": 4,
 "nbformat_minor": 2
}
